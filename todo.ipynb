{
 "cells": [
  {
   "cell_type": "code",
   "execution_count": 1,
   "id": "7fcb464e",
   "metadata": {},
   "outputs": [],
   "source": [
    "from dotenv import load_dotenv\n",
    "load_dotenv()\n",
    "\n",
    "from app.tasks import mail_unsub_poll\n",
    "from app import api_client, mailgun_util"
   ]
  },
  {
   "cell_type": "code",
   "execution_count": 5,
   "id": "3c96b640",
   "metadata": {},
   "outputs": [],
   "source": [
    "\n",
    "import pandas as pd\n",
    "contacts = api_client.filter_contacts({})\n",
    "\n",
    "df = pd.DataFrame(contacts)\n",
    "df[\"stage\"] = \"new\"\n",
    "\n",
    "# load env CONTACTS_CSV_PATH\n",
    "from pathlib import Path\n",
    "import os\n",
    "CONTACTS_CSV_PATH = Path(os.environ[\"CONTACTS_CSV_PATH\"])\n",
    "\n",
    "#save new df\n",
    "df.to_csv(CONTACTS_CSV_PATH, index=False)"
   ]
  },
  {
   "cell_type": "code",
   "execution_count": 4,
   "id": "e3e038e2",
   "metadata": {},
   "outputs": [
    {
     "name": "stdout",
     "output_type": "stream",
     "text": [
      "[skip] unsubscribed for david.vikstrand@gmail.com\n"
     ]
    },
    {
     "data": {
      "text/plain": [
       "<Response [200]>"
      ]
     },
     "execution_count": 4,
     "metadata": {},
     "output_type": "execute_result"
    }
   ],
   "source": [
    "mailgun_util.send_mailgun_message([\"c0nspiracy0f0nee@gmail.com\", \"david.vikstrand@gmail.com\"], [\"form_v1\", {}], \"test\")"
   ]
  }
 ],
 "metadata": {
  "kernelspec": {
   "display_name": "Python 3",
   "language": "python",
   "name": "python3"
  },
  "language_info": {
   "codemirror_mode": {
    "name": "ipython",
    "version": 3
   },
   "file_extension": ".py",
   "mimetype": "text/x-python",
   "name": "python",
   "nbconvert_exporter": "python",
   "pygments_lexer": "ipython3",
   "version": "3.10.11"
  }
 },
 "nbformat": 4,
 "nbformat_minor": 5
}
